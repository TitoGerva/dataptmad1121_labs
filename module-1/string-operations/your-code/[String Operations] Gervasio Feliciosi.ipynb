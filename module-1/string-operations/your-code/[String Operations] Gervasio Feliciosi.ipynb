{
 "cells": [
  {
   "cell_type": "markdown",
   "metadata": {},
   "source": [
    "# Before your start:\n",
    "- Read the README.md file\n",
    "- Comment as much as you can and use the resources in the README.md file\n",
    "- Happy learning!"
   ]
  },
  {
   "cell_type": "code",
   "execution_count": 1,
   "metadata": {},
   "outputs": [],
   "source": [
    "import re"
   ]
  },
  {
   "cell_type": "markdown",
   "metadata": {},
   "source": [
    "# Challenge 1 - Combining Strings\n",
    "\n",
    "Combining strings is an important skill to acquire. There are multiple ways of combining strings in Python, as well as combining strings with variables. We will explore this in the first challenge. In the cell below, combine the strings in the list and add spaces between the strings (do not add a space after the last string). Insert a period after the last string."
   ]
  },
  {
   "cell_type": "code",
   "execution_count": 2,
   "metadata": {},
   "outputs": [
    {
     "name": "stdout",
     "output_type": "stream",
     "text": [
      "Durante un tiempo no estuvo segura de si su marido era su marido\n"
     ]
    }
   ],
   "source": [
    "str_list = ['Durante', 'un', 'tiempo', 'no', 'estuvo', 'segura', 'de', 'si', 'su', 'marido', 'era', 'su', 'marido']\n",
    "# Your code here:\n",
    "\n",
    "print(\" \".join(str_list))"
   ]
  },
  {
   "cell_type": "markdown",
   "metadata": {},
   "source": [
    "In the cell below, use the list of strings to create a grocery list. Start the list with the string `Grocery list: ` and include a comma and a space between each item except for the last one. Include a period at the end. Only include foods in the list that start with the letter 'b' and ensure all foods are lower case."
   ]
  },
  {
   "cell_type": "code",
   "execution_count": 3,
   "metadata": {
    "scrolled": true
   },
   "outputs": [
    {
     "name": "stdout",
     "output_type": "stream",
     "text": [
      "<class 'list'>\n",
      "['Grocery List:', 'bread', 'broccoli', 'Bananas', 'Brownie']\n",
      "Grocery List: bread broccoli Bananas Brownie\n"
     ]
    }
   ],
   "source": [
    "food_list = ['Bananas', 'Chocolate', 'bread', 'diapers', 'Ice Cream', 'Brownie Mix', 'broccoli']\n",
    "\n",
    "food_list = str(food_list)\n",
    "minusculas = re.findall(\"b\\w+\",food_list)\n",
    "mayusculas = re.findall(\"B\\w+\",food_list)\n",
    "grocery_list = [\"Grocery List:\"]+minusculas+mayusculas\n",
    "print(type(grocery_list))\n",
    "print(grocery_list)\n",
    "print(\" \".join(grocery_list))\n",
    "    \n",
    "        "
   ]
  },
  {
   "cell_type": "markdown",
   "metadata": {},
   "source": [
    "In the cell below, write a function that computes the area of a circle using its radius. Compute the area of the circle and insert the radius and the area between the two strings. Make sure to include spaces between the variable and the strings. \n",
    "\n",
    "Note: You can use the techniques we have learned so far or use f-strings. F-strings allow us to embed code inside strings. You can read more about f-strings [here](https://www.python.org/dev/peps/pep-0498/)."
   ]
  },
  {
   "cell_type": "code",
   "execution_count": 4,
   "metadata": {},
   "outputs": [
    {
     "name": "stdout",
     "output_type": "stream",
     "text": [
      "The area of the circle with radius: 4.5 is: 14.137166941154069\n"
     ]
    }
   ],
   "source": [
    "import math\n",
    "string1 = \"The area of the circle with radius:\"\n",
    "string2  = \"is:\"\n",
    "radius = 4.5\n",
    "\n",
    "area = radius * math.pi\n",
    "\n",
    "print(\"{0} {1} {2} {3}\".format(string1, radius, string2, area))"
   ]
  },
  {
   "cell_type": "markdown",
   "metadata": {},
   "source": [
    "# Challenge 2 - Splitting Strings\n",
    "\n",
    "We have first looked at combining strings into one long string. There are times where we need to do the opposite and split the string into smaller components for further analysis. \n",
    "\n",
    "In the cell below, split the string into a list of strings using the space delimiter. Count the frequency of each word in the string in a dictionary. Strip the periods, line breaks and commas from the text. Make sure to remove empty strings from your dictionary."
   ]
  },
  {
   "cell_type": "code",
   "execution_count": 60,
   "metadata": {},
   "outputs": [
    {
     "name": "stdout",
     "output_type": "stream",
     "text": [
      "Poem:\n",
      "Some say the world will end in fire\n",
      "Some say in ice\n",
      "From what Ive tasted of desire\n",
      "I hold with those who favor fire\n",
      "But if it had to perish twice\n",
      "I think I know enough of hate\n",
      "To say that for destruction ice\n",
      "Is also great\n",
      "And would suffice\n",
      "\n",
      "Word Frecuency:\n",
      "[2, 3, 1, 1, 1, 1, 2, 2, 2, 3, 2, 2, 1, 1, 1, 1, 2, 1, 3, 1, 1, 1, 1, 1, 2, 1, 1, 1, 1, 1, 1, 1, 3, 1, 3, 1, 1, 2, 1, 1, 3, 1, 1, 1, 2, 1, 1, 1, 1, 1, 1]\n",
      "\n",
      "(('Some', 2), ('say', 3), ('the', 1), ('world', 1), ('will', 1), ('end', 1), ('in', 2), ('fire', 2), ('Some', 2), ('say', 3), ('in', 2), ('ice', 2), ('From', 1), ('what', 1), ('Ive', 1), ('tasted', 1), ('of', 2), ('desire', 1), ('I', 3), ('hold', 1), ('with', 1), ('those', 1), ('who', 1), ('favor', 1), ('fire', 2), ('But', 1), ('if', 1), ('it', 1), ('had', 1), ('to', 1), ('perish', 1), ('twice', 1), ('I', 3), ('think', 1), ('I', 3), ('know', 1), ('enough', 1), ('of', 2), ('hate', 1), ('To', 1), ('say', 3), ('that', 1), ('for', 1), ('destruction', 1), ('ice', 2), ('Is', 1), ('also', 1), ('great', 1), ('And', 1), ('would', 1), ('suffice', 1))\n"
     ]
    }
   ],
   "source": [
    "poem = \"\"\"Some say the world will end in fire,\n",
    "Some say in ice.\n",
    "From what I’ve tasted of desire\n",
    "I hold with those who favor fire.\n",
    "But if it had to perish twice,\n",
    "I think I know enough of hate\n",
    "To say that for destruction ice\n",
    "Is also great\n",
    "And would suffice.\"\"\"\n",
    "\n",
    "# Your code here:\n",
    "quit = \".,’\"\n",
    "for caracter in quit:\n",
    "    poem= poem.replace(caracter,\"\")\n",
    "    \n",
    "word_list = poem.split()\n",
    "word_frecuency=[]\n",
    "for w in word_list:\n",
    "    word_frecuency.append(word_list.count(w))\n",
    "    \n",
    "print(\"Poem:\\n\" + poem + \"\\n\")\n",
    "print(\"Word Frecuency:\\n\" + str(word_frecuency) +\"\\n\")\n",
    "Dict= zip(word_list, word_frecuency)\n",
    "print(tuple(Dict))\n"
   ]
  },
  {
   "cell_type": "markdown",
   "metadata": {},
   "source": [
    "In the cell below, find all the words that appear in the text and do not appear in the blacklist. You must parse the string but can choose any data structure you wish for the words that do not appear in the blacklist. Remove all non letter characters and convert all words to lower case."
   ]
  },
  {
   "cell_type": "code",
   "execution_count": 119,
   "metadata": {},
   "outputs": [
    {
     "name": "stdout",
     "output_type": "stream",
     "text": [
      "['i', 'was', 'angry', 'with', 'my', 'friend', 'i', 'told', 'my', 'wrath', 'my', 'wrath', 'did', 'end', 'i', 'was', 'angry', 'with', 'my', 'foe', 'i', 'told', 'it', 'not', 'my', 'wrath', 'did', 'grow', 'and', 'i', 'waterd', 'it', 'in', 'fears', 'night', 'morning', 'with', 'my', 'tears', 'and', 'i', 'sunned', 'it', 'with', 'smiles', 'and', 'with', 'soft', 'deceitful', 'wiles', 'and', 'it', 'grew', 'both', 'day', 'and', 'night', 'till', 'it', 'bore', 'an', 'apple', 'bright', 'and', 'my', 'foe', 'beheld', 'it', 'shine', 'and', 'he', 'knew', 'that', 'it', 'was', 'mine', 'and', 'into', 'my', 'garden', 'stole', 'when', 'the', 'night', 'had', 'veild', 'the', 'pole', 'in', 'the', 'morning', 'glad', 'i', 'see', 'my', 'foe', 'outstretched', 'beneath', 'the', 'tree']\n",
      "{'smiles', 'foe', 'sunned', 'garden', 'and', 'tears', 'fears', 'into', 'end', 'wiles', 'had', 'it', 'beneath', 'an', 'pole', 'morning', 'friend', 'soft', 'waterd', 'bore', 'shine', 'glad', 'both', 'apple', 'bright', 'veild', 'night', 'see', 'angry', 'the', 'my', 'did', 'i', 'till', 'knew', 'day', 'told', 'when', 'grow', 'tree', 'wrath', 'in', 'grew', 'stole', 'he', 'mine', 'not', 'was', 'deceitful', 'beheld', 'that', 'with', 'outstretched'}\n",
      "{'in', 'the', 'a', 'it', 'and', 'an', 'as'}\n",
      "{'smiles', 'foe', 'sunned', 'garden', 'tears', 'fears', 'into', 'end', 'wiles', 'had', 'beneath', 'pole', 'morning', 'friend', 'soft', 'waterd', 'bore', 'shine', 'glad', 'both', 'apple', 'bright', 'veild', 'night', 'see', 'angry', 'my', 'did', 'i', 'till', 'knew', 'day', 'told', 'when', 'grow', 'tree', 'wrath', 'grew', 'stole', 'he', 'mine', 'not', 'was', 'deceitful', 'beheld', 'that', 'with', 'outstretched'}\n"
     ]
    }
   ],
   "source": [
    "blacklist = ['and', 'as', 'an', 'a', 'the', 'in', 'it']\n",
    "\n",
    "poem_1 = \"\"\"I was angry with my friend; \n",
    "I told my wrath, my wrath did end.\n",
    "I was angry with my foe: \n",
    "I told it not, my wrath did grow. \n",
    "\n",
    "And I waterd it in fears,\n",
    "Night & morning with my tears: \n",
    "And I sunned it with smiles,\n",
    "And with soft deceitful wiles. \n",
    "And it grew both day and night. \n",
    "Till it bore an apple bright. \n",
    "And my foe beheld it shine,\n",
    "And he knew that it was mine. \n",
    "\n",
    "And into my garden stole, \n",
    "When the night had veild the pole; \n",
    "In the morning glad I see; \n",
    "My foe outstretched beneath the tree.\"\"\"\n",
    "\n",
    "# Your code here: NO SALE PREGUNTAR EN CLASE\n",
    "blacklist_set= set(blacklist)\n",
    "quit = \".,’;:&\"\n",
    "for caracter in quit:\n",
    "    poem_1= poem_1.replace(caracter,\"\")\n",
    "poem_v2=poem_1.lower()\n",
    "poem_v3=poem_v2.split()\n",
    "poem_set= set(poem_v3)\n",
    "whitelist= poem_set - blacklist_set\n",
    "print(poem_v3)\n",
    "print(poem_set)\n",
    "print(blacklist_set)\n",
    "print(whitelist)"
   ]
  },
  {
   "cell_type": "markdown",
   "metadata": {},
   "source": [
    "# Challenge 3 - Regular Expressions\n",
    "\n",
    "Sometimes, we would like to perform more complex manipulations of our string. This is where regular expressions come in handy. In the cell below, return all characters that are upper case from the string specified below."
   ]
  },
  {
   "cell_type": "code",
   "execution_count": 2,
   "metadata": {},
   "outputs": [
    {
     "name": "stdout",
     "output_type": "stream",
     "text": [
      "['The', 'Petals']\n",
      "2\n"
     ]
    }
   ],
   "source": [
    "poem_3 = \"\"\"The apparition of these faces in the crowd;\n",
    "Petals on a wet, black bough.\"\"\"\n",
    "\n",
    "# Your code here:\n",
    "import re\n",
    "Capitol = \"[A-Z][a-z]+\" \n",
    "Capitol_list = re.findall(Capitol,poem_3)\n",
    "print(Capitol_list)\n",
    "print(len(Capitol_list))\n"
   ]
  },
  {
   "cell_type": "markdown",
   "metadata": {},
   "source": [
    "In the cell below, filter the list provided and return all elements of the list containing a number. To filter the list, use the `re.search` function. Check if the function does not return `None`. You can read more about the `re.search` function [here](https://docs.python.org/3/library/re.html)."
   ]
  },
  {
   "cell_type": "code",
   "execution_count": 3,
   "metadata": {
    "scrolled": true
   },
   "outputs": [
    {
     "name": "stdout",
     "output_type": "stream",
     "text": [
      "['123abc', 'abc123', 'JohnSmith1', 'ABBY4', 'JANE']\n",
      "<re.Match object; span=(2, 5), match='123'>\n",
      "['123', '123', '1', '4']\n",
      "4\n"
     ]
    }
   ],
   "source": [
    "data = ['123abc', 'abc123', 'JohnSmith1', 'ABBY4', 'JANE']\n",
    "\n",
    "# Your code here:\n",
    "import re\n",
    "data_2 = str(data)\n",
    "digits= \"[0-9]+\"\n",
    "data_list = re.search(digits,data_2)\n",
    "data_list_v2= re.findall(digits,data_2)\n",
    "print(data_2)\n",
    "print(data_list)\n",
    "print(data_list_v2)\n",
    "print(len(data_list_v2))"
   ]
  },
  {
   "cell_type": "markdown",
   "metadata": {},
   "source": [
    "# Bonus Challenge - Regular Expressions II\n",
    "\n",
    "In the cell below, filter the list provided to keep only strings containing at least one digit and at least one lower case letter. As in the previous question, use the `re.search` function and check that the result is not `None`.\n",
    "\n",
    "To read more about regular expressions, check out [this link](https://developers.google.com/edu/python/regular-expressions)."
   ]
  },
  {
   "cell_type": "code",
   "execution_count": 23,
   "metadata": {},
   "outputs": [
    {
     "name": "stdout",
     "output_type": "stream",
     "text": [
      "<re.Match object; span=(2, 8), match='123abc'>\n",
      "['123abc', 'abc123']\n"
     ]
    }
   ],
   "source": [
    "data = ['123abc', 'abc123', 'JohnSmith1', 'ABBY4', 'JANE']\n",
    "# Your code here:\n",
    "import re\n",
    "data_2=str(data)\n",
    "digits = \"\\w+[0-9]\\w+\"\n",
    "digits_list = re.search(digits,data_2)\n",
    "digits_list_2 = re.findall(digits,data_2)\n",
    "print(digits_list)\n",
    "print(digits_list_2)"
   ]
  },
  {
   "cell_type": "code",
   "execution_count": null,
   "metadata": {},
   "outputs": [],
   "source": []
  }
 ],
 "metadata": {
  "kernelspec": {
   "display_name": "Python [conda env:jp_env] *",
   "language": "python",
   "name": "conda-env-jp_env-py"
  },
  "language_info": {
   "codemirror_mode": {
    "name": "ipython",
    "version": 3
   },
   "file_extension": ".py",
   "mimetype": "text/x-python",
   "name": "python",
   "nbconvert_exporter": "python",
   "pygments_lexer": "ipython3",
   "version": "3.7.11"
  }
 },
 "nbformat": 4,
 "nbformat_minor": 2
}
