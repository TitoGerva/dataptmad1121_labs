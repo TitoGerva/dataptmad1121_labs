{
 "cells": [
  {
   "cell_type": "code",
   "execution_count": null,
   "metadata": {},
   "outputs": [],
   "source": [
    "CREATE TABLE Cars\n",
    "(\n",
    "\tID INT NOT NULL, \n",
    "    VIN VARCHAR(50) NOT NULL, \n",
    "    Manufacturer VARCHAR(50) NOT NULL,\n",
    "    Model VARCHAR(50) NOT NULL,\n",
    "    \"Year\" INT NOT NULL,\n",
    "\tColor VARCHAR(50) NOT NULL\n",
    ")"
   ]
  },
  {
   "cell_type": "code",
   "execution_count": null,
   "metadata": {},
   "outputs": [],
   "source": [
    "CREATE TABLE Customers\n",
    "(\n",
    "\tID INT NOT NULL,\n",
    "\t\"Customer ID\" INT NOT NULL,\n",
    "\tName VARCHAR(50) NOT NULL,\n",
    "\tPhone VARCHAR(50) NOT NULL,\n",
    "\tEmail VARCHAR(50) NOT NULL,\n",
    "\tAddress VARCHAR(50) NOT NULL,\n",
    "\tCity VARCHAR(50) NOT NULL,\n",
    "\t\"StateProvince\" VARCHAR(50) NOT NULL,\n",
    "\tCountry VARCHAR(50) NOT NULL,\n",
    "\tPostal INT NOT NULL,\n",
    ")"
   ]
  },
  {
   "cell_type": "code",
   "execution_count": null,
   "metadata": {},
   "outputs": [],
   "source": [
    "CREATE TABLE SalesPersons\n",
    "(\n",
    "\tID INT NOT NULL,\n",
    "\t\"Staff ID\" INT NOT NULL,\n",
    "\tName VARCHAR(50) NOT NULL,\n",
    "\tStore VARCHAR(50) NOT NULL,\n",
    ")"
   ]
  },
  {
   "cell_type": "code",
   "execution_count": null,
   "metadata": {},
   "outputs": [],
   "source": [
    "CREATE TABLE Invoices\n",
    "(\n",
    "\tID INT NOT NULL,\n",
    "\t\"Invoice Number\" VARCHAR(50) NOT NULL,\n",
    "\t\"Date\" DATE NOT NULL,\n",
    "\tCar INT NOT NULL,\n",
    "\tCustomer INT NOT NULL,\n",
    "\t\"Sales Person\" INT NOT NULL,\n",
    ")"
   ]
  },
  {
   "cell_type": "code",
   "execution_count": null,
   "metadata": {},
   "outputs": [],
   "source": [
    "INSERT INTO Cars (ID, VIN, Manufacturer, Model, \"Year\", Color)\n",
    "VALUES \n",
    "(0, '3K096I98581DHSNUP', 'Volkswagen', 'Tiguan', 2019, 'Blue'),\n",
    "(1, 'ZM8G7BEUQZ97IH46V', 'Peugeot', 'Rifter', 2019, 'Red'),\n",
    "(2, 'RKXVNNIHLVVZOUB4M', 'Ford', 'Fusion',\t2018, 'White'),\n",
    "(3, 'HKNDGS7CU31E9Z7JW', 'Toyota', 'RAV4',\t2018, 'Silver'),\n",
    "(4, 'DAM41UDN3CHU2WVF6', 'Volvo', 'V60',\t2019, 'Gray'),\n",
    "(5, 'DAM41UDN3CHU2WVF6', 'Volvo', 'V60 Cross Country', 2019, 'Gray')"
   ]
  },
  {
   "cell_type": "code",
   "execution_count": null,
   "metadata": {},
   "outputs": [],
   "source": [
    "INSERT INTO Customers (ID, \"Customer ID\", Name, Phone, Email, Address, City, \"State/Province\", Country, Postal)\n",
    "VALUES \n",
    "(0, 10001, 'Pablo Picasso', '+34 636 17 63 82', '-', 'Paseo de la Chopera, 14', 'Madrid', 'Madrid', 'Spain', '28045'),\n",
    "(1, 20001, 'Abraham Lincoln', '+1 305 907 7086', '-', '120 SW 8th St', 'Miami', 'Florida', 'United States', '33130'),\n",
    "(2, 30001, 'Napoléon Bonaparte', '+33 1 79 75 40 00', '-', '40 Rue du Colisée', 'Paris', 'Île-de-France', 'France', '75008')"
   ]
  },
  {
   "cell_type": "code",
   "execution_count": null,
   "metadata": {},
   "outputs": [],
   "source": [
    "INSERT INTO SalesPersons (ID, \"Staff ID\", Name, Store)\n",
    "VALUES \n",
    "(0, '00001', 'Petey Cruiser', 'Madrid'),\n",
    "(1, '00002', 'Anna Sthesia', 'Barcelona'),\n",
    "(2, '00003', 'Paul Molive','Berlin'),\n",
    "(3, '00004', 'Gail Forcewind', 'Paris'),\n",
    "(4, '00005', 'Paige Turner', 'Mimia'),\n",
    "(5, '00006', 'Bob Frapples','Mexico City'),\n",
    "(6, '00007', 'Walter Melon', 'Amsterdam'),\n",
    "(7, '00008', 'Shonda Leer', 'São Paulo')"
   ]
  },
  {
   "cell_type": "code",
   "execution_count": null,
   "metadata": {},
   "outputs": [],
   "source": [
    "INSERT INTO Invoices (ID, \"Invoice Number\", \"Date\", Car, Customer, \"Sales Person\")\n",
    "VALUES \n",
    "(0, '852399038', '20180822', 0, 1, 3),\n",
    "(1, '731166526', '20181231', 3, 0, 5),\n",
    "(2, '271135104', '20190122', 2, 2, 7)\n"
   ]
  },
  {
   "cell_type": "code",
   "execution_count": null,
   "metadata": {},
   "outputs": [],
   "source": [
    "UPDATE SalesPersons SET Store = 'Miami' WHERE ID = 4;\n",
    "UPDATE Customers SET Email = 'ppicaso@gmail.com' WHERE Name = 'Pablo Picasso';\n",
    "UPDATE Customers SET Email = 'lincoln@us.gob' WHERE Name = 'Abraham Lincoln';\n",
    "UPDATE Customers SET Email = 'hello@napoleon.me' WHERE Name = 'Napoléon Bonaparte'\n"
   ]
  },
  {
   "cell_type": "code",
   "execution_count": null,
   "metadata": {},
   "outputs": [],
   "source": [
    "DELETE FROM Cars WHERE ID = 4"
   ]
  },
  {
   "cell_type": "code",
   "execution_count": null,
   "metadata": {},
   "outputs": [],
   "source": [
    "SELECT * FROM Cars INNER JOIN Invoices ON Cars.ID = Invoices.Car"
   ]
  },
  {
   "cell_type": "code",
   "execution_count": null,
   "metadata": {},
   "outputs": [],
   "source": [
    "SELECT * FROM Cars FULL JOIN Invoices ON Cars.ID = Invoices.Car"
   ]
  },
  {
   "cell_type": "code",
   "execution_count": null,
   "metadata": {},
   "outputs": [],
   "source": [
    "SELECT * FROM Cars LEFT JOIN Invoices ON Cars.ID = Invoices.Car"
   ]
  },
  {
   "cell_type": "code",
   "execution_count": null,
   "metadata": {},
   "outputs": [],
   "source": [
    "SELECT * FROM Cars RIGHT JOIN Invoices ON Cars.ID = Invoices.Car"
   ]
  },
  {
   "cell_type": "code",
   "execution_count": null,
   "metadata": {},
   "outputs": [],
   "source": [
    "SELECT * FROM Cars  LEFT JOIN Invoices ON Cars.ID = Invoices.Car WHERE Invoices.Car IS NULL"
   ]
  },
  {
   "cell_type": "code",
   "execution_count": null,
   "metadata": {},
   "outputs": [],
   "source": [
    "SELECT * FROM Cars  RIGHT JOIN Invoices ON Cars.ID = Invoices.Car WHERE Invoices.Car IS NULL"
   ]
  },
  {
   "cell_type": "code",
   "execution_count": null,
   "metadata": {},
   "outputs": [],
   "source": [
    "SELECT * FROM Cars  FULL JOIN Invoices ON Cars.ID = Invoices.Car WHERE Invoices.Car IS NULL"
   ]
  }
 ],
 "metadata": {
  "language_info": {
   "name": "python"
  },
  "orig_nbformat": 4
 },
 "nbformat": 4,
 "nbformat_minor": 2
}
